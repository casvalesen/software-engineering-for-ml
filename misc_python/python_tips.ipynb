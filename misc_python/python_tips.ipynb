{
 "cells": [
  {
   "cell_type": "markdown",
   "metadata": {},
   "source": [
    "## Python tips "
   ]
  },
  {
   "cell_type": "markdown",
   "metadata": {},
   "source": [
    "### Assertion tests\n",
    "\n",
    "\n",
    "In Python, the assert statement is used for debugging and testing purposes. It checks whether a given condition is True. If the condition is False, it raises an AssertionError exception, indicating that something unexpected happened in your code.\n",
    "\n",
    "If you want to use assert to check if a variable is an instance of a particular class or type, you can combine it with the isinstance() function. Here's how you can do it:\n"
   ]
  },
  {
   "cell_type": "code",
   "execution_count": 1,
   "metadata": {},
   "outputs": [],
   "source": [
    "# Example 1: Check if a variable is an instance of a specific class\n",
    "my_var = 42\n",
    "assert isinstance(my_var, int), \"my_var should be an integer\"\n",
    "\n",
    "# Example 2: Check if a variable is an instance of one of multiple classes\n",
    "my_list = [1, 2, 3]\n",
    "assert isinstance(my_list, (list, tuple)), \"my_list should be a list or tuple\"\n"
   ]
  },
  {
   "cell_type": "markdown",
   "metadata": {},
   "source": [
    "In the example, the assert statement checks if my_var is an instance of the int class. If it's not, it raises an AssertionError with the specified error message.\n",
    "\n",
    "In the second example, the isinstance() function is used to check if my_list is an instance of either the list or tuple class. If it's not, it raises an AssertionError.\n",
    "\n",
    "\n",
    "The string that follows the condition in an assert statement is an optional error message. If the condition specified in the assert statement is False, indicating that the assertion has failed, the error message is included in the AssertionError exception that is raised. This error message provides additional information about why the assertion failed.\n"
   ]
  },
  {
   "cell_type": "markdown",
   "metadata": {},
   "source": []
  }
 ],
 "metadata": {
  "kernelspec": {
   "display_name": "linalg",
   "language": "python",
   "name": "python3"
  },
  "language_info": {
   "codemirror_mode": {
    "name": "ipython",
    "version": 3
   },
   "file_extension": ".py",
   "mimetype": "text/x-python",
   "name": "python",
   "nbconvert_exporter": "python",
   "pygments_lexer": "ipython3",
   "version": "3.9.0"
  }
 },
 "nbformat": 4,
 "nbformat_minor": 2
}
